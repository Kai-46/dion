{
 "cells": [
  {
   "cell_type": "code",
   "execution_count": 6,
   "id": "a250087b",
   "metadata": {},
   "outputs": [],
   "source": [
    "import json\n",
    "import os\n",
    "import numpy as np\n",
    "import matplotlib.pyplot as plt\n",
    "import pandas as pd\n",
    "from scipy.interpolate import PchipInterpolator"
   ]
  },
  {
   "cell_type": "code",
   "execution_count": 4,
   "id": "bc6051a7",
   "metadata": {},
   "outputs": [
    {
     "name": "stdout",
     "output_type": "stream",
     "text": [
      "Data columns: Index(['step', '(muon_moonlight+adam)_bs=2048_lr=0.01_sp=1.0 - val/loss',\n",
      "       '(adam+adam)_bs=2048_lr=0.0016_sp=1.0 - val/loss',\n",
      "       '(dion+lion)_bs=2048_lr=0.01_sp=1.0 - val/loss',\n",
      "       '(muon_moonlight+adam)_bs=1024_lr=0.01_sp=1.0 - val/loss',\n",
      "       '(dion+lion)_bs=1024_lr=0.01_sp=1.0 - val/loss',\n",
      "       '(adam+adam)_bs=1024_lr=0.002_sp=1.0 - val/loss'],\n",
      "      dtype='object')\n"
     ]
    }
   ],
   "source": [
    "# Load CSV exported from wandb\n",
    "data = pd.read_csv(\"data.csv\")\n",
    "\n",
    "# remove columns with name ending in __MIN or __MAX\n",
    "selected_cols = [\n",
    "    col\n",
    "    for col in data.columns\n",
    "    if not col.endswith(\"__MIN\")\n",
    "    and not col.endswith(\"__MAX\")\n",
    "    and not col.endswith(\"_step\")\n",
    "]\n",
    "data = data.loc[:, selected_cols]\n",
    "\n",
    "print(f\"Data columns: {data.columns}\")"
   ]
  },
  {
   "cell_type": "code",
   "execution_count": 8,
   "id": "6756713c",
   "metadata": {},
   "outputs": [],
   "source": [
    "# Get data exported to CSV\n",
    "\n",
    "\n",
    "def get_column(data, name):\n",
    "    col_name = [x for x in data.columns if name in x]\n",
    "    assert len(col_name) == 1, f\"Column {name} not found\"\n",
    "    return data[col_name[0]].dropna().values\n",
    "\n",
    "\n",
    "step_120 = get_column(data, \"step\")\n",
    "dion_120 = get_column(data, \"(dion+lion)_bs=1024\")\n",
    "muon_120 = get_column(data, \"(muon_moonlight+adam)_bs=1024\")\n",
    "adam_120 = get_column(data, \"(adam+adam)_bs=1024\")\n",
    "\n",
    "step_350 = step_120\n",
    "dion_350 = get_column(data, \"(dion+lion)_bs=2048\")\n",
    "muon_350 = get_column(data, \"(muon_moonlight+adam)_bs=2048\")\n",
    "adam_350 = get_column(data, \"(adam+adam)_bs=2048\")"
   ]
  },
  {
   "cell_type": "code",
   "execution_count": 48,
   "id": "e3c99d77",
   "metadata": {},
   "outputs": [],
   "source": [
    "# Get data from log files\n",
    "\n",
    "\n",
    "def load_jsonl_log(file):\n",
    "    with open(file, \"r\") as f:\n",
    "        data = []\n",
    "        for line in f:\n",
    "            x = json.loads(line)\n",
    "            data.append(x)\n",
    "    return data\n",
    "\n",
    "\n",
    "def get_fields(data, fields):\n",
    "    output = [list() for _ in range(len(fields))]\n",
    "    for row in data:\n",
    "        if not all(field in row for field in fields):\n",
    "            continue\n",
    "        for i, field in enumerate(fields):\n",
    "            output[i].append(row[field])\n",
    "    return [np.array(x) for x in output]\n",
    "\n",
    "\n",
    "step_1b, adam_1b = get_fields(load_jsonl_log(\"adam1b.log\"), [\"step\", \"val/loss\"])\n",
    "_, muon_1b = get_fields(load_jsonl_log(\"muon1b.log\"), [\"step\", \"val/loss\"])\n",
    "_, dion_1b = get_fields(load_jsonl_log(\"dion1b.log\"), [\"step\", \"val/loss\"])\n",
    "\n",
    "step_3b, adam_3b = get_fields(load_jsonl_log(\"adam3b.log\"), [\"step\", \"val/loss\"])\n",
    "_, muon_3b = get_fields(load_jsonl_log(\"muon3b.log\"), [\"step\", \"val/loss\"])\n",
    "_, dion_3b = get_fields(load_jsonl_log(\"dion3b.log\"), [\"step\", \"val/loss\"])"
   ]
  },
  {
   "cell_type": "code",
   "execution_count": 60,
   "id": "4730038e",
   "metadata": {},
   "outputs": [],
   "source": [
    "def create_interp(step, losses):\n",
    "    step = step[: len(losses)]\n",
    "    idx = np.argsort(losses)\n",
    "    interp = PchipInterpolator(losses[idx], step[idx])\n",
    "    return interp\n",
    "\n",
    "\n",
    "def interpolate(dion_interp, muon_interp, adam_interp, target_loss):\n",
    "    dion_steps = dion_interp(target_loss)\n",
    "    muon_steps = muon_interp(target_loss)\n",
    "    adam_steps = adam_interp(target_loss)\n",
    "\n",
    "    print(f\"Interpolated steps for target loss {target_loss}:\")\n",
    "    print(f\"  dion: {dion_steps:.0f}\")\n",
    "    print(f\"  muon: {muon_steps:.0f}\")\n",
    "    print(f\"  adam: {adam_steps:.0f}\")\n",
    "    print(f\"  dion speedup: {adam_steps / dion_steps}\")\n",
    "    print(f\"  muon speedup: {adam_steps / muon_steps}\")"
   ]
  },
  {
   "cell_type": "code",
   "execution_count": 91,
   "id": "dda77047",
   "metadata": {},
   "outputs": [
    {
     "name": "stdout",
     "output_type": "stream",
     "text": [
      "Interpolated steps for target loss 3.52:\n",
      "  dion: 1450\n",
      "  muon: 2087\n",
      "  adam: 2578\n",
      "  dion speedup: 1.7785704666731437\n",
      "  muon speedup: 1.2353678048364678\n"
     ]
    }
   ],
   "source": [
    "# 120M model\n",
    "# Total training steps 3000\n",
    "dion_120_interp = create_interp(step_120, dion_120)\n",
    "muon_120_interp = create_interp(step_120, muon_120)\n",
    "adam_120_interp = create_interp(step_120, adam_120)\n",
    "interpolate(dion_120_interp, muon_120_interp, adam_120_interp, target_loss=3.52)"
   ]
  },
  {
   "cell_type": "code",
   "execution_count": 62,
   "id": "a6bab090",
   "metadata": {},
   "outputs": [
    {
     "name": "stdout",
     "output_type": "stream",
     "text": [
      "Interpolated steps for target loss 3.23:\n",
      "  dion: 1997\n",
      "  muon: 2555\n",
      "  adam: 3443\n",
      "  dion speedup: 1.7242330385248117\n",
      "  muon speedup: 1.3477499525554368\n"
     ]
    }
   ],
   "source": [
    "# 350M model\n",
    "# Total training steps 4000\n",
    "dion_350_interp = create_interp(step_350, dion_350)\n",
    "muon_350_interp = create_interp(step_350, muon_350)\n",
    "adam_350_interp = create_interp(step_350, adam_350)\n",
    "interpolate(dion_350_interp, muon_350_interp, adam_350_interp, target_loss=3.23)"
   ]
  },
  {
   "cell_type": "code",
   "execution_count": 88,
   "id": "884060cd",
   "metadata": {},
   "outputs": [
    {
     "name": "stdout",
     "output_type": "stream",
     "text": [
      "Interpolated steps for target loss 3.56:\n",
      "  dion: 1241\n",
      "  muon: 1722\n",
      "  adam: 2397\n",
      "  dion speedup: 1.932127365400116\n",
      "  muon speedup: 1.3919431211352713\n"
     ]
    }
   ],
   "source": [
    "# 120M model\n",
    "# Total training steps 3000\n",
    "dion_120_interp = create_interp(step_120, dion_120)\n",
    "muon_120_interp = create_interp(step_120, muon_120)\n",
    "adam_120_interp = create_interp(step_120, adam_120)\n",
    "interpolate(dion_120_interp, muon_120_interp, adam_120_interp, target_loss=3.56)"
   ]
  },
  {
   "cell_type": "code",
   "execution_count": 85,
   "id": "5d35fedc",
   "metadata": {},
   "outputs": [
    {
     "name": "stdout",
     "output_type": "stream",
     "text": [
      "Interpolated steps for target loss 3.27:\n",
      "  dion: 1674\n",
      "  muon: 2122\n",
      "  adam: 3198\n",
      "  dion speedup: 1.9100783620862307\n",
      "  muon speedup: 1.5069891181768138\n"
     ]
    }
   ],
   "source": [
    "# 350M model\n",
    "# Total training steps 4000\n",
    "dion_350_interp = create_interp(step_350, dion_350)\n",
    "muon_350_interp = create_interp(step_350, muon_350)\n",
    "adam_350_interp = create_interp(step_350, adam_350)\n",
    "interpolate(dion_350_interp, muon_350_interp, adam_350_interp, target_loss=3.27)"
   ]
  },
  {
   "cell_type": "code",
   "execution_count": 82,
   "id": "88b679d0",
   "metadata": {},
   "outputs": [
    {
     "name": "stdout",
     "output_type": "stream",
     "text": [
      "Interpolated steps for target loss 2.81:\n",
      "  dion: 3578\n",
      "  muon: 4353\n",
      "  adam: 6024\n",
      "  dion speedup: 1.6837048128307963\n",
      "  muon speedup: 1.38405210941899\n"
     ]
    }
   ],
   "source": [
    "# 1B model\n",
    "# Total training steps 7500\n",
    "dion_1b_interp = create_interp(step_1b, dion_1b)\n",
    "muon_1b_interp = create_interp(step_1b, muon_1b)\n",
    "adam_1b_interp = create_interp(step_1b, adam_1b)\n",
    "interpolate(dion_1b_interp, muon_1b_interp, adam_1b_interp, target_loss=2.81)"
   ]
  },
  {
   "cell_type": "code",
   "execution_count": 75,
   "id": "4012ba0b",
   "metadata": {},
   "outputs": [
    {
     "name": "stdout",
     "output_type": "stream",
     "text": [
      "Interpolated steps for target loss 2.63:\n",
      "  dion: 4069\n",
      "  muon: 4215\n",
      "  adam: 6096\n",
      "  dion speedup: 1.4980010825189116\n",
      "  muon speedup: 1.4459815582424187\n"
     ]
    }
   ],
   "source": [
    "# 3B model\n",
    "# Total training steps 7500\n",
    "dion_3b_interp = create_interp(step_3b, dion_3b)\n",
    "muon_3b_interp = create_interp(step_3b, muon_3b)\n",
    "adam_3b_interp = create_interp(step_3b, adam_3b)\n",
    "interpolate(dion_3b_interp, muon_3b_interp, adam_3b_interp, target_loss=2.63)"
   ]
  }
 ],
 "metadata": {
  "kernelspec": {
   "display_name": "venv",
   "language": "python",
   "name": "python3"
  },
  "language_info": {
   "codemirror_mode": {
    "name": "ipython",
    "version": 3
   },
   "file_extension": ".py",
   "mimetype": "text/x-python",
   "name": "python",
   "nbconvert_exporter": "python",
   "pygments_lexer": "ipython3",
   "version": "3.12.3"
  }
 },
 "nbformat": 4,
 "nbformat_minor": 5
}
